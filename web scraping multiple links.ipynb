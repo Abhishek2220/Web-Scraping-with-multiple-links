{
 "cells": [
  {
   "cell_type": "code",
   "execution_count": 2,
   "id": "6000b1d2",
   "metadata": {},
   "outputs": [],
   "source": [
    "from bs4 import BeautifulSoup\n",
    "import requests"
   ]
  },
  {
   "cell_type": "code",
   "execution_count": 3,
   "id": "161376cf",
   "metadata": {},
   "outputs": [],
   "source": [
    "root='https://subslikescript.com'"
   ]
  },
  {
   "cell_type": "code",
   "execution_count": 4,
   "id": "2f53e570",
   "metadata": {},
   "outputs": [],
   "source": [
    "website=f'{root}/movies'"
   ]
  },
  {
   "cell_type": "code",
   "execution_count": 5,
   "id": "5b35e91c",
   "metadata": {},
   "outputs": [],
   "source": [
    "result=requests.get(website)"
   ]
  },
  {
   "cell_type": "code",
   "execution_count": 8,
   "id": "75280143",
   "metadata": {},
   "outputs": [],
   "source": [
    "content=result.text"
   ]
  },
  {
   "cell_type": "code",
   "execution_count": 9,
   "id": "866a7160",
   "metadata": {},
   "outputs": [],
   "source": [
    "soup=BeautifulSoup(content,'lxml')\n",
    "#print(soup.prettify())"
   ]
  },
  {
   "cell_type": "code",
   "execution_count": 10,
   "id": "3e2865eb",
   "metadata": {},
   "outputs": [],
   "source": [
    "box = soup.find('article', class_='main-article')\n"
   ]
  },
  {
   "cell_type": "code",
   "execution_count": 11,
   "id": "54a8a05b",
   "metadata": {},
   "outputs": [
    {
     "name": "stdout",
     "output_type": "stream",
     "text": [
      "['movie/The_Jungle_Book-61852', 'movie/The_Boat_Builder-3704854', 'movie/Inbetween_Worlds-3032028', 'movie/Bruiser-21833464', 'movie/We_Have_a_Ghost-7798604', 'movie/Rosebud_Lane-13170092', 'movie/Interlocked_Thrilled_to_Death-147906', 'movie/Mercy_Streets-243415', 'movie/Mukhachitram-23875342', 'movie/Pet_Pals_Marco_Polos_Code-1647446', 'movie/The_Diary_of_a_Big_Man-94935', 'movie/Rocky_Road-3187040', 'movie/Mutant_Python-22335678', 'movie/The_Antique_Shop-20836442', 'movie/Meteor_First_Impact-19034784', 'movie/Jesse_James_Unchained-22813848', 'movie/Red_Water-15134424', 'movie/Doctor-2466708', 'movie/Inherit_the_Wind-95373', 'movie/Ithaka-15066072', 'movie/Men_Who_Save_the_World-3797880', 'movie/Bilocation-3029570', 'movie/Vampire_in_Love-4328196', 'movie/The_Concrete_Jungle-83755', 'movie/The_Love_Keys-66843', 'movie/Green_Sea-11623722', 'movie/A_Time_of_Destiny-96271', 'movie/Ngai_chai_dor_ching-1463188', 'movie/Homebodies-71617', 'movie/The_Wall_Climb_for_Gold-15717116']\n"
     ]
    }
   ],
   "source": [
    "links=[]\n",
    "for link in box.find_all('a',href=True):\n",
    "    links.append(link['href'])\n",
    "    \n",
    "print(links)"
   ]
  },
  {
   "cell_type": "code",
   "execution_count": 12,
   "id": "9d3b9763",
   "metadata": {},
   "outputs": [],
   "source": [
    "for link in links:\n",
    "    website=f'{root}/{link}'\n",
    "    result=requests.get(website)\n",
    "    content=result.text\n",
    "    soup=BeautifulSoup(content,'lxml')"
   ]
  },
  {
   "cell_type": "code",
   "execution_count": 23,
   "id": "6d1aaf6e",
   "metadata": {},
   "outputs": [],
   "source": [
    "box = soup.find('article', class_='main-article')"
   ]
  },
  {
   "cell_type": "code",
   "execution_count": 22,
   "id": "e77e37fb",
   "metadata": {},
   "outputs": [],
   "source": [
    "title=box.find('h1').get_text()"
   ]
  },
  {
   "cell_type": "code",
   "execution_count": 24,
   "id": "069751cb",
   "metadata": {},
   "outputs": [],
   "source": [
    "transcript=box.find('div',class_='full-script').get_text(strip=True,separator=' ')"
   ]
  },
  {
   "cell_type": "code",
   "execution_count": 26,
   "id": "e60cb8c2",
   "metadata": {},
   "outputs": [],
   "source": [
    "with open(f'{title}.txt','w',encoding='utf-8') as file:\n",
    "    file.write(transcript)"
   ]
  },
  {
   "cell_type": "code",
   "execution_count": null,
   "id": "912553e6",
   "metadata": {},
   "outputs": [],
   "source": []
  }
 ],
 "metadata": {
  "kernelspec": {
   "display_name": "Python 3 (ipykernel)",
   "language": "python",
   "name": "python3"
  },
  "language_info": {
   "codemirror_mode": {
    "name": "ipython",
    "version": 3
   },
   "file_extension": ".py",
   "mimetype": "text/x-python",
   "name": "python",
   "nbconvert_exporter": "python",
   "pygments_lexer": "ipython3",
   "version": "3.9.12"
  }
 },
 "nbformat": 4,
 "nbformat_minor": 5
}
